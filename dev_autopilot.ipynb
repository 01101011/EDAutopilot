{
 "cells": [
  {
   "cell_type": "markdown",
   "metadata": {
    "toc": true
   },
   "source": [
    "<h1>Elite Dangerous Autopilot v2<span class=\"tocSkip\"></span></h1>\n",
    "<div class=\"toc\"><ul class=\"toc-item\"><li><span><a href=\"#References\" data-toc-modified-id=\"References-1\"><span class=\"toc-item-num\">1&nbsp;&nbsp;</span>References</a></span></li><li><span><a href=\"#Imports\" data-toc-modified-id=\"Imports-2\"><span class=\"toc-item-num\">2&nbsp;&nbsp;</span>Imports</a></span></li><li><span><a href=\"#Constants\" data-toc-modified-id=\"Constants-3\"><span class=\"toc-item-num\">3&nbsp;&nbsp;</span>Constants</a></span></li><li><span><a href=\"#Read-ED-logs\" data-toc-modified-id=\"Read-ED-logs-4\"><span class=\"toc-item-num\">4&nbsp;&nbsp;</span>Read ED logs</a></span><ul class=\"toc-item\"><li><span><a href=\"#Get-latest-log-file\" data-toc-modified-id=\"Get-latest-log-file-4.1\"><span class=\"toc-item-num\">4.1&nbsp;&nbsp;</span>Get latest log file</a></span></li><li><span><a href=\"#Extract-ship-info-from-log\" data-toc-modified-id=\"Extract-ship-info-from-log-4.2\"><span class=\"toc-item-num\">4.2&nbsp;&nbsp;</span>Extract ship info from log</a></span></li></ul></li><li><span><a href=\"#Control-ED-with-direct-input\" data-toc-modified-id=\"Control-ED-with-direct-input-5\"><span class=\"toc-item-num\">5&nbsp;&nbsp;</span>Control ED with direct input</a></span><ul class=\"toc-item\"><li><span><a href=\"#Get-necessary-keybinds\" data-toc-modified-id=\"Get-necessary-keybinds-5.1\"><span class=\"toc-item-num\">5.1&nbsp;&nbsp;</span>Get necessary keybinds</a></span></li></ul></li><li><span><a href=\"#Direct-input-function\" data-toc-modified-id=\"Direct-input-function-6\"><span class=\"toc-item-num\">6&nbsp;&nbsp;</span>Direct input function</a></span></li><li><span><a href=\"#OpenCV\" data-toc-modified-id=\"OpenCV-7\"><span class=\"toc-item-num\">7&nbsp;&nbsp;</span>OpenCV</a></span><ul class=\"toc-item\"><li><span><a href=\"#Get-screen\" data-toc-modified-id=\"Get-screen-7.1\"><span class=\"toc-item-num\">7.1&nbsp;&nbsp;</span>Get screen</a></span></li><li><span><a href=\"#HSV-slider-tool\" data-toc-modified-id=\"HSV-slider-tool-7.2\"><span class=\"toc-item-num\">7.2&nbsp;&nbsp;</span>HSV slider tool</a></span></li><li><span><a href=\"#Filter-sun\" data-toc-modified-id=\"Filter-sun-7.3\"><span class=\"toc-item-num\">7.3&nbsp;&nbsp;</span>Filter sun</a></span></li><li><span><a href=\"#Filter-orange\" data-toc-modified-id=\"Filter-orange-7.4\"><span class=\"toc-item-num\">7.4&nbsp;&nbsp;</span>Filter orange</a></span></li><li><span><a href=\"#Filter-orange2\" data-toc-modified-id=\"Filter-orange2-7.5\"><span class=\"toc-item-num\">7.5&nbsp;&nbsp;</span>Filter orange2</a></span></li><li><span><a href=\"#Filter-blue\" data-toc-modified-id=\"Filter-blue-7.6\"><span class=\"toc-item-num\">7.6&nbsp;&nbsp;</span>Filter blue</a></span></li><li><span><a href=\"#Get-sun\" data-toc-modified-id=\"Get-sun-7.7\"><span class=\"toc-item-num\">7.7&nbsp;&nbsp;</span>Get sun</a></span></li><li><span><a href=\"#Get-compass-image\" data-toc-modified-id=\"Get-compass-image-7.8\"><span class=\"toc-item-num\">7.8&nbsp;&nbsp;</span>Get compass image</a></span></li><li><span><a href=\"#Get-navpoint-offset\" data-toc-modified-id=\"Get-navpoint-offset-7.9\"><span class=\"toc-item-num\">7.9&nbsp;&nbsp;</span>Get navpoint offset</a></span></li><li><span><a href=\"#Get-destination-offset\" data-toc-modified-id=\"Get-destination-offset-7.10\"><span class=\"toc-item-num\">7.10&nbsp;&nbsp;</span>Get destination offset</a></span></li></ul></li><li><span><a href=\"#Autopilot-routines\" data-toc-modified-id=\"Autopilot-routines-8\"><span class=\"toc-item-num\">8&nbsp;&nbsp;</span>Autopilot routines</a></span><ul class=\"toc-item\"><li><span><a href=\"#Undock\" data-toc-modified-id=\"Undock-8.1\"><span class=\"toc-item-num\">8.1&nbsp;&nbsp;</span>Undock</a></span></li><li><span><a href=\"#Dock\" data-toc-modified-id=\"Dock-8.2\"><span class=\"toc-item-num\">8.2&nbsp;&nbsp;</span>Dock</a></span></li><li><span><a href=\"#Align\" data-toc-modified-id=\"Align-8.3\"><span class=\"toc-item-num\">8.3&nbsp;&nbsp;</span>Align</a></span></li><li><span><a href=\"#Jump\" data-toc-modified-id=\"Jump-8.4\"><span class=\"toc-item-num\">8.4&nbsp;&nbsp;</span>Jump</a></span></li><li><span><a href=\"#Refuel\" data-toc-modified-id=\"Refuel-8.5\"><span class=\"toc-item-num\">8.5&nbsp;&nbsp;</span>Refuel</a></span></li><li><span><a href=\"#Position\" data-toc-modified-id=\"Position-8.6\"><span class=\"toc-item-num\">8.6&nbsp;&nbsp;</span>Position</a></span></li></ul></li><li><span><a href=\"#Autopilot-main\" data-toc-modified-id=\"Autopilot-main-9\"><span class=\"toc-item-num\">9&nbsp;&nbsp;</span>Autopilot main</a></span><ul class=\"toc-item\"><li><span><a href=\"#status-reference\" data-toc-modified-id=\"status-reference-9.1\"><span class=\"toc-item-num\">9.1&nbsp;&nbsp;</span>status reference</a></span></li></ul></li></ul></div>"
   ]
  },
  {
   "cell_type": "markdown",
   "metadata": {},
   "source": [
    "## References"
   ]
  },
  {
   "cell_type": "markdown",
   "metadata": {},
   "source": [
    "Useful docs / articles / etc\n",
    "  \n",
    "  1 - [A Python wrapper around AHK](https://pypi.org/project/ahk/)\n",
    "\n",
    "  2 - [OpenCV on Wheels](https://pypi.org/project/opencv-python/)\n",
    "\n",
    "  3 - [Autopilot for Elite Dangerous using OpenCV and thoughts on CV enabled bots in visual-to-keyboard loop](https://networkgeekstuff.com/projects/autopilot-for-elite-dangerous-using-opencv-and-thoughts-on-cv-enabled-bots-in-visual-to-keyboard-loop/)\n",
    "  \n",
    "  4 - [Using PyInstaller to Easily Distribute Python Applications](https://realpython.com/pyinstaller-python/)\n",
    "  \n",
    "  5 - [Direct Input to a Game - Python Plays GTA V](https://pythonprogramming.net/direct-input-game-python-plays-gta-v/)\n",
    "  \n",
    "  6 - [Cross-platform GUI automation for human beings](https://pyautogui.readthedocs.io/en/latest/index.html)"
   ]
  },
  {
   "cell_type": "markdown",
   "metadata": {},
   "source": [
    "## Imports"
   ]
  },
  {
   "cell_type": "code",
   "execution_count": 469,
   "metadata": {},
   "outputs": [],
   "source": [
    "import sys\n",
    "import datetime\n",
    "from os import environ, listdir\n",
    "from os.path import join, isfile, getctime, abspath\n",
    "from json import loads\n",
    "from math import degrees, atan\n",
    "from time import sleep\n",
    "from numpy import array, sum, where\n",
    "from PIL import ImageGrab\n",
    "from datetime import datetime\n",
    "from xml.etree.ElementTree import parse\n",
    "import cv2 # see reference 2\n",
    "from src.directinput import * # see reference 5\n",
    "from pyautogui import size# see reference 6"
   ]
  },
  {
   "cell_type": "code",
   "execution_count": 470,
   "metadata": {},
   "outputs": [],
   "source": [
    "def resource_path(relative_path):\n",
    "    \"\"\" Get absolute path to resource, works for dev and for PyInstaller \"\"\"\n",
    "    try:\n",
    "        # PyInstaller creates a temp folder and stores path in _MEIPASS\n",
    "        base_path = sys._MEIPASS\n",
    "    except Exception:\n",
    "        base_path = abspath(\".\")\n",
    "\n",
    "    return join(base_path, relative_path)"
   ]
  },
  {
   "cell_type": "markdown",
   "metadata": {},
   "source": [
    "## Constants"
   ]
  },
  {
   "cell_type": "code",
   "execution_count": 471,
   "metadata": {},
   "outputs": [],
   "source": [
    "PATH_LOG_FILES = None\n",
    "PATH_KEYBINDINGS = None\n",
    "KEY_MOD_DELAY = 0.200\n",
    "KEY_DEFAULT_DELAY = 0.200\n",
    "KEY_REPEAT_DELAY = 0.100\n",
    "FUNCTION_DEFAULT_DELAY = 0.500\n",
    "SCREEN_WIDTH, SCREEN_HEIGHT = size()"
   ]
  },
  {
   "cell_type": "markdown",
   "metadata": {},
   "source": [
    "## Read ED logs"
   ]
  },
  {
   "cell_type": "markdown",
   "metadata": {},
   "source": [
    "### Get latest log file"
   ]
  },
  {
   "cell_type": "code",
   "execution_count": 472,
   "metadata": {},
   "outputs": [],
   "source": [
    "def get_latest_log(path_logs=None):\n",
    "    \"\"\"Returns the full path of the latest (most recent) elite log file (journal) from specified path\"\"\"\n",
    "    if not path_logs:\n",
    "        path_logs = environ['USERPROFILE'] + \"\\Saved Games\\Frontier Developments\\Elite Dangerous\"\n",
    "    list_of_logs = [join(path_logs, f) for f in listdir(path_logs) if isfile(join(path_logs, f)) and f.startswith('Journal.')]\n",
    "    if not list_of_logs:\n",
    "        return None\n",
    "    latest_log = max(list_of_logs, key=getctime)\n",
    "    return latest_log"
   ]
  },
  {
   "cell_type": "code",
   "execution_count": 473,
   "metadata": {},
   "outputs": [],
   "source": [
    "# get_latest_log(PATH_LOG_FILES)"
   ]
  },
  {
   "cell_type": "markdown",
   "metadata": {},
   "source": [
    "### Extract ship info from log"
   ]
  },
  {
   "cell_type": "code",
   "execution_count": 474,
   "metadata": {},
   "outputs": [],
   "source": [
    "def ship():\n",
    "    \"\"\"Returns a 'status' dict containing relevant game status information (state, fuel, ...)\"\"\"\n",
    "    latest_log = get_latest_log(PATH_LOG_FILES)\n",
    "    ship = {\n",
    "        'time': (datetime.now() - datetime.fromtimestamp(getctime(latest_log))).seconds,\n",
    "        'status': None,\n",
    "        'type': None,\n",
    "        'location': None,\n",
    "        'star_class': None,\n",
    "        'target': None,\n",
    "        'fuel_capacity': None,\n",
    "        'fuel_level': None,\n",
    "        'fuel_percent': None,\n",
    "        'is_scooping': False,\n",
    "    }\n",
    "    # Read log line by line and parse data\n",
    "    with open(latest_log, encoding=\"utf-8\") as f:\n",
    "        for line in f:\n",
    "            log = loads(line)\n",
    "            \n",
    "            # parse data\n",
    "            try:\n",
    "                # parse ship status\n",
    "                log_event = log['event']\n",
    "                \n",
    "                if log_event == 'StartJump':\n",
    "                    ship['status'] = str('starting_'+log['JumpType']).lower()\n",
    "                    \n",
    "                elif log_event == 'SupercruiseEntry' or log_event == 'FSDJump':\n",
    "                    ship['status'] = 'in_supercruise'\n",
    "                    \n",
    "                elif log_event == 'SupercruiseExit' or log_event == 'DockingCancelled' \\\n",
    "                 or (log_event == 'Music' and ship['status'] == 'in_undocking') \\\n",
    "                 or (log_event == 'Location' and log['Docked'] == False):\n",
    "                    ship['status'] = 'in_space'\n",
    "                    \n",
    "                elif log_event == 'Undocked':\n",
    "                    ship['status'] = 'starting_undocking'\n",
    "                    \n",
    "                elif log_event == 'DockingRequested':\n",
    "                    ship['status'] = 'starting_docking'\n",
    "                    \n",
    "                elif log_event == \"Music\" and log['MusicTrack'] == \"DockingComputer\":\n",
    "                    if ship['status'] == 'starting_undocking':\n",
    "                        ship['status'] = 'in_undocking'\n",
    "                    elif ship['status'] == 'starting_docking':\n",
    "                        ship['status'] = 'in_docking'\n",
    "                \n",
    "                elif log_event == 'Docked':\n",
    "                    ship['status'] = 'in_station'\n",
    "                    \n",
    "                # parse ship type\n",
    "                if log_event == 'LoadGame' or log_event == 'Loadout':\n",
    "                    ship['type'] = log['Ship']\n",
    "                    \n",
    "                # parse fuel\n",
    "                if 'FuelLevel' in log and ship['type'] != 'TestBuggy':\n",
    "                    ship['fuel_level'] = log['FuelLevel']\n",
    "                if 'FuelCapacity' in log and ship['type'] != 'TestBuggy':\n",
    "                        try:\n",
    "                            ship['fuel_capacity'] = log['FuelCapacity']['Main']\n",
    "                        except:\n",
    "                            ship['fuel_capacity'] = log['FuelCapacity']\n",
    "                if log_event == 'FuelScoop' and 'Total' in log:\n",
    "                    ship['fuel_level'] = log['Total']\n",
    "                if ship['fuel_level'] and ship['fuel_capacity']:\n",
    "                    ship['fuel_percent'] = round((ship['fuel_level'] / ship['fuel_capacity'])*100)\n",
    "                else:\n",
    "                    ship['fuel_percent'] = 10\n",
    "                    \n",
    "                # parse scoop\n",
    "                if log_event == 'FuelScoop' and ship['time'] < 10 and ship['fuel_percent'] < 100:\n",
    "                    ship['is_scooping'] = True\n",
    "                else:\n",
    "                    ship['is_scooping'] = False\n",
    "                    \n",
    "                # parse location\n",
    "                if (log_event == 'Location' or log_event == 'FSDJump') and 'StarSystem' in log:\n",
    "                    ship['location'] = log['StarSystem']\n",
    "                if 'StarClass' in log:\n",
    "                    ship['star_class'] = log['StarClass']\n",
    "                    \n",
    "                # parse target\n",
    "                if log_event == 'FSDTarget':\n",
    "                    if log['Name'] == ship['location']:\n",
    "                        ship['target'] = None\n",
    "                    else:\n",
    "                        ship['target'] = log['Name']\n",
    "                elif log_event == 'FSDJump':\n",
    "                    if ship['location'] == ship['target']:\n",
    "                        ship['target'] = None\n",
    "                \n",
    "                    \n",
    "            # exceptions\n",
    "            except Exception as e:\n",
    "                print(e)\n",
    "    return ship"
   ]
  },
  {
   "cell_type": "code",
   "execution_count": 475,
   "metadata": {},
   "outputs": [],
   "source": [
    "# ship()"
   ]
  },
  {
   "cell_type": "markdown",
   "metadata": {},
   "source": [
    "## Control ED with direct input"
   ]
  },
  {
   "cell_type": "markdown",
   "metadata": {},
   "source": [
    "### Get necessary keybinds"
   ]
  },
  {
   "cell_type": "code",
   "execution_count": 476,
   "metadata": {},
   "outputs": [],
   "source": [
    "def get_bindings(path_bindings=None):\n",
    "    \"\"\"Returns a dict struct with the direct input equivalent of the necessary elite keybindings\"\"\"\n",
    "    direct_input_keys = {}\n",
    "    keys_to_obtain = [\n",
    "        'PitchUpButton',\n",
    "        'PitchDownButton',\n",
    "        'RollLeftButton',\n",
    "        'RollRightButton',\n",
    "        'YawLeftButton',\n",
    "        'YawRightButton',\n",
    "        'SetSpeedZero',\n",
    "        'SetSpeed100',\n",
    "        'UI_Back',\n",
    "        'UIFocus',\n",
    "        'UI_Up',\n",
    "        'UI_Down',\n",
    "        'UI_Left',\n",
    "        'UI_Right',\n",
    "        'UI_Select',\n",
    "        'CycleNextPanel',\n",
    "        'HeadLookReset',\n",
    "        'HyperSuperCombination'\n",
    "    ]\n",
    "    convert_to_direct_keys = {\n",
    "        'Key_LeftShift':'LShift',\n",
    "        'Key_RightShift':'RShift',\n",
    "        'Key_LeftAlt':'LAlt',\n",
    "        'Key_RightAlt':'RAlt',\n",
    "        'Key_LeftControl':'LControl',\n",
    "        'Key_RightControl':'RControl'\n",
    "    }\n",
    "    if not path_bindings:\n",
    "        path_bindings = environ['LOCALAPPDATA'] + \"\\Frontier Developments\\Elite Dangerous\\Options\\Bindings\"\n",
    "    list_of_bindings = [join(path_bindings, f) for f in listdir(path_bindings) if isfile(join(path_bindings, f))]\n",
    "    if not list_of_bindings:\n",
    "        return None\n",
    "    latest_bindings = max(list_of_bindings, key=getctime)\n",
    "    bindings_tree = parse(latest_bindings)\n",
    "    bindings_root = bindings_tree.getroot()\n",
    "    for item in bindings_root:\n",
    "        if item.tag in keys_to_obtain:\n",
    "            binding = {'key': SCANCODE['DIK_'+str(item[0].attrib['Key'][4:]).upper()]}\n",
    "            if len(item[0]) > 0:\n",
    "                mod = item[0][0].attrib['Key']\n",
    "                if mod in convert_to_direct_keys:\n",
    "                    mod = convert_to_direct_keys[mod]\n",
    "                else:\n",
    "                    mod = mod[4:]\n",
    "                binding['mod'] = SCANCODE['DIK_'+mod.upper()]\n",
    "            direct_input_keys[item.tag] = binding\n",
    "    if len(list(direct_input_keys.keys())) < 1:\n",
    "        return None\n",
    "    else:\n",
    "        return direct_input_keys"
   ]
  },
  {
   "cell_type": "code",
   "execution_count": 477,
   "metadata": {},
   "outputs": [],
   "source": [
    "keys = get_bindings(PATH_KEYBINDINGS)\n",
    "# keys"
   ]
  },
  {
   "cell_type": "markdown",
   "metadata": {},
   "source": [
    "## Direct input function"
   ]
  },
  {
   "cell_type": "code",
   "execution_count": 478,
   "metadata": {},
   "outputs": [],
   "source": [
    "def send(key, hold=None, repeat=1, repeat_delay=None, state=None):\n",
    "    global KEY_MOD_DELAY, KEY_DEFAULT_DELAY, KEY_REPEAT_DELAY\n",
    "    \n",
    "    for i in range(repeat):\n",
    "        \n",
    "        if state is None or state == 1:\n",
    "            if 'mod' in key:\n",
    "                PressKey(key['mod'])\n",
    "                sleep(KEY_MOD_DELAY)\n",
    "\n",
    "            PressKey(key['key'])\n",
    "\n",
    "        if state is None:\n",
    "            if hold:\n",
    "                sleep(hold)\n",
    "            else:\n",
    "                sleep(KEY_DEFAULT_DELAY)\n",
    "\n",
    "        if state is None or state == 0:\n",
    "            ReleaseKey(key['key'])\n",
    "\n",
    "            if 'mod' in key:\n",
    "                sleep(KEY_MOD_DELAY)\n",
    "                ReleaseKey(key['mod'])\n",
    "        \n",
    "        if repeat_delay:\n",
    "            sleep(repeat_delay)\n",
    "        else:\n",
    "            sleep(KEY_REPEAT_DELAY)"
   ]
  },
  {
   "cell_type": "code",
   "execution_count": 479,
   "metadata": {},
   "outputs": [],
   "source": [
    "# sleep(3)\n",
    "# send(keys['UIFocus'], state=1)"
   ]
  },
  {
   "cell_type": "markdown",
   "metadata": {},
   "source": [
    "## OpenCV"
   ]
  },
  {
   "cell_type": "markdown",
   "metadata": {},
   "source": [
    "### Get screen"
   ]
  },
  {
   "cell_type": "code",
   "execution_count": 480,
   "metadata": {},
   "outputs": [],
   "source": [
    "def get_screen(x_left, y_top, x_right, y_bot):\n",
    "    screen = array(ImageGrab.grab(bbox=(x_left, y_top, x_right, y_bot)))\n",
    "    screen = cv2.cvtColor(screen, cv2.COLOR_RGB2BGR)\n",
    "    return screen\n",
    "    "
   ]
  },
  {
   "cell_type": "markdown",
   "metadata": {},
   "source": [
    "### HSV slider tool"
   ]
  },
  {
   "cell_type": "code",
   "execution_count": 481,
   "metadata": {},
   "outputs": [],
   "source": [
    "def callback(x):\n",
    "    pass\n",
    "\n",
    "def hsv_slider():\n",
    "    cv2.namedWindow('image')\n",
    "\n",
    "    ilowH = 0\n",
    "    ihighH = 179\n",
    "\n",
    "    ilowS = 0\n",
    "    ihighS = 255\n",
    "    ilowV = 0\n",
    "    ihighV = 255\n",
    "\n",
    "    # create trackbars for color change\n",
    "    cv2.createTrackbar('lowH','image',ilowH,179,callback)\n",
    "    cv2.createTrackbar('highH','image',ihighH,179,callback)\n",
    "\n",
    "    cv2.createTrackbar('lowS','image',ilowS,255,callback)\n",
    "    cv2.createTrackbar('highS','image',ihighS,255,callback)\n",
    "\n",
    "    cv2.createTrackbar('lowV','image',ilowV,255,callback)\n",
    "    cv2.createTrackbar('highV','image',ihighV,255,callback)\n",
    "\n",
    "    while(True):\n",
    "        # grab the frame\n",
    "        frame = get_screen((5/16)*SCREEN_WIDTH, (5/8)*SCREEN_HEIGHT,(2/4)*SCREEN_WIDTH, (15/16)*SCREEN_HEIGHT)\n",
    "\n",
    "        # get trackbar positions\n",
    "        ilowH = cv2.getTrackbarPos('lowH', 'image')\n",
    "        ihighH = cv2.getTrackbarPos('highH', 'image')\n",
    "        ilowS = cv2.getTrackbarPos('lowS', 'image')\n",
    "        ihighS = cv2.getTrackbarPos('highS', 'image')\n",
    "        ilowV = cv2.getTrackbarPos('lowV', 'image')\n",
    "        ihighV = cv2.getTrackbarPos('highV', 'image')\n",
    "\n",
    "        hsv = cv2.cvtColor(frame, cv2.COLOR_BGR2HSV)\n",
    "        lower_hsv = array([ilowH, ilowS, ilowV])\n",
    "        higher_hsv = array([ihighH, ihighS, ihighV])\n",
    "        mask = cv2.inRange(hsv, lower_hsv, higher_hsv)\n",
    "\n",
    "        frame = cv2.bitwise_and(frame, frame, mask=mask)\n",
    "\n",
    "        # show thresholded image\n",
    "        cv2.imshow('image', frame)\n",
    "\n",
    "        if cv2.waitKey(25) & 0xFF == ord('q'):\n",
    "            cv2.destroyAllWindows()\n",
    "            break"
   ]
  },
  {
   "cell_type": "code",
   "execution_count": 482,
   "metadata": {},
   "outputs": [],
   "source": [
    "# hsv_slider()"
   ]
  },
  {
   "cell_type": "markdown",
   "metadata": {},
   "source": [
    "### Filter sun"
   ]
  },
  {
   "cell_type": "code",
   "execution_count": 483,
   "metadata": {},
   "outputs": [],
   "source": [
    "def filter_sun(image=None, testing=False):\n",
    "    while True:\n",
    "        if testing:\n",
    "            hsv = get_screen((1/3)*SCREEN_WIDTH, (1/3)*SCREEN_HEIGHT,(2/3)*SCREEN_WIDTH, (2/3)*SCREEN_HEIGHT)\n",
    "        else:\n",
    "            hsv = image.copy()\n",
    "        # converting from BGR to HSV color space\n",
    "        hsv = cv2.cvtColor(hsv, cv2.COLOR_BGR2HSV)\n",
    "        # filter Elite UI orange\n",
    "        filtered = cv2.inRange(hsv, array([0, 100, 240]), array([180, 255, 255]))\n",
    "        if testing:\n",
    "            cv2.imshow('Filtered', filtered)\n",
    "            if cv2.waitKey(25) & 0xFF == ord('q'):\n",
    "                cv2.destroyAllWindows()\n",
    "                break\n",
    "        else:\n",
    "            break\n",
    "    return filtered"
   ]
  },
  {
   "cell_type": "code",
   "execution_count": 484,
   "metadata": {},
   "outputs": [],
   "source": [
    "# filter_sun(testing=True)"
   ]
  },
  {
   "cell_type": "markdown",
   "metadata": {},
   "source": [
    "### Filter orange"
   ]
  },
  {
   "cell_type": "code",
   "execution_count": 485,
   "metadata": {},
   "outputs": [],
   "source": [
    "def filter_orange(image=None, testing=False):\n",
    "    while True:\n",
    "        if testing:\n",
    "            hsv = get_screen((1/3)*SCREEN_WIDTH, (1/3)*SCREEN_HEIGHT,(2/3)*SCREEN_WIDTH, (2/3)*SCREEN_HEIGHT)\n",
    "        else:\n",
    "            hsv = image.copy()\n",
    "        # converting from BGR to HSV color space\n",
    "        hsv = cv2.cvtColor(hsv, cv2.COLOR_BGR2HSV)\n",
    "        # filter Elite UI orange\n",
    "        filtered = cv2.inRange(hsv, array([0, 130, 123]), array([25, 235, 220]))\n",
    "        if testing:\n",
    "            cv2.imshow('Filtered', filtered)\n",
    "            if cv2.waitKey(25) & 0xFF == ord('q'):\n",
    "                cv2.destroyAllWindows()\n",
    "                break\n",
    "        else:\n",
    "            break\n",
    "    return filtered"
   ]
  },
  {
   "cell_type": "code",
   "execution_count": 486,
   "metadata": {},
   "outputs": [],
   "source": [
    "# filter_orange(testing=True)"
   ]
  },
  {
   "cell_type": "markdown",
   "metadata": {},
   "source": [
    "### Filter orange2"
   ]
  },
  {
   "cell_type": "code",
   "execution_count": 487,
   "metadata": {},
   "outputs": [],
   "source": [
    "def filter_orange2(image=None, testing=False):\n",
    "    while True:\n",
    "        if testing:\n",
    "            hsv = get_screen((1/3)*SCREEN_WIDTH, (1/3)*SCREEN_HEIGHT,(2/3)*SCREEN_WIDTH, (2/3)*SCREEN_HEIGHT)\n",
    "        else:\n",
    "            hsv = image.copy()\n",
    "        # converting from BGR to HSV color space\n",
    "        hsv = cv2.cvtColor(hsv, cv2.COLOR_BGR2HSV)\n",
    "        # filter Elite UI orange\n",
    "        filtered = cv2.inRange(hsv, array([15, 220, 220]), array([30, 255, 255]))\n",
    "        if testing:\n",
    "            cv2.imshow('Filtered', filtered)\n",
    "            if cv2.waitKey(25) & 0xFF == ord('q'):\n",
    "                cv2.destroyAllWindows()\n",
    "                break\n",
    "        else:\n",
    "            break\n",
    "    return filtered"
   ]
  },
  {
   "cell_type": "code",
   "execution_count": 488,
   "metadata": {},
   "outputs": [],
   "source": [
    "# filter_orange2(testing=True)"
   ]
  },
  {
   "cell_type": "markdown",
   "metadata": {},
   "source": [
    "### Filter blue"
   ]
  },
  {
   "cell_type": "code",
   "execution_count": 489,
   "metadata": {},
   "outputs": [],
   "source": [
    "def filter_blue(image=None, testing=False):\n",
    "    while True:\n",
    "        if testing:\n",
    "            hsv = get_screen((1/3)*SCREEN_WIDTH, (1/3)*SCREEN_HEIGHT,(2/3)*SCREEN_WIDTH, (2/3)*SCREEN_HEIGHT)\n",
    "        else:\n",
    "            hsv = image.copy()\n",
    "        # converting from BGR to HSV color space\n",
    "        hsv = cv2.cvtColor(hsv, cv2.COLOR_BGR2HSV)\n",
    "        # filter Elite UI orange\n",
    "        filtered = cv2.inRange(hsv, array([0, 0, 200]), array([180, 100, 255]))\n",
    "        if testing:\n",
    "            cv2.imshow('Filtered', filtered)\n",
    "            if cv2.waitKey(25) & 0xFF == ord('q'):\n",
    "                cv2.destroyAllWindows()\n",
    "                break\n",
    "        else:\n",
    "            break\n",
    "    return filtered"
   ]
  },
  {
   "cell_type": "code",
   "execution_count": 490,
   "metadata": {},
   "outputs": [],
   "source": [
    "# filter_blue(testing=True)"
   ]
  },
  {
   "cell_type": "markdown",
   "metadata": {},
   "source": [
    "### Get sun"
   ]
  },
  {
   "cell_type": "code",
   "execution_count": 491,
   "metadata": {},
   "outputs": [],
   "source": [
    "def sun_percent():\n",
    "    screen = get_screen((1/3)*SCREEN_WIDTH, (1/3)*SCREEN_HEIGHT,(2/3)*SCREEN_WIDTH, (2/3)*SCREEN_HEIGHT)\n",
    "    filtered = filter_sun(screen)\n",
    "    total = (1/3)*SCREEN_WIDTH*(1/3)*SCREEN_HEIGHT\n",
    "    white = sum(filtered == 255)\n",
    "    black = sum(filtered != 255)\n",
    "    result = white / black\n",
    "    return result * 100"
   ]
  },
  {
   "cell_type": "code",
   "execution_count": 492,
   "metadata": {},
   "outputs": [],
   "source": [
    "# sleep(3)\n",
    "# sun_percent()"
   ]
  },
  {
   "cell_type": "markdown",
   "metadata": {},
   "source": [
    "### Get compass image"
   ]
  },
  {
   "cell_type": "code",
   "execution_count": 493,
   "metadata": {},
   "outputs": [],
   "source": [
    "def get_compass_image(testing=False):\n",
    "    compass_template = cv2.imread(resource_path(\"templates/compass.png\"), cv2.IMREAD_GRAYSCALE)\n",
    "    compass_width, compass_height = compass_template.shape[::-1]\n",
    "    compass_image = compass_template.copy()\n",
    "    doubt = 10\n",
    "    while True:\n",
    "        screen = get_screen((5/16)*SCREEN_WIDTH, (5/8)*SCREEN_HEIGHT,(2/4)*SCREEN_WIDTH, (15/16)*SCREEN_HEIGHT)\n",
    "        mask_orange = filter_orange(screen)\n",
    "        match = cv2.matchTemplate(mask_orange, compass_template, cv2.TM_CCOEFF_NORMED)\n",
    "        threshold = 0.3\n",
    "        loc = where( match >= threshold)\n",
    "        pt = (doubt, doubt)\n",
    "        for point in zip(*loc[::-1]):\n",
    "                pt = point\n",
    "        compass_image = screen[pt[1]-doubt : pt[1]+compass_height+doubt, pt[0]-doubt : pt[0]+compass_width+doubt].copy()\n",
    "        if testing:\n",
    "            cv2.rectangle(screen, pt, (pt[0] + compass_width, pt[1] + compass_height), (0,0,255), 2)\n",
    "            cv2.imshow('Compass Found', screen)\n",
    "            cv2.imshow('Compass Mask', mask_orange)\n",
    "            cv2.imshow('Compass', compass_image)\n",
    "            if cv2.waitKey(25) & 0xFF == ord('q'):\n",
    "                cv2.destroyAllWindows()\n",
    "                break\n",
    "        else:\n",
    "            break\n",
    "    return compass_image, compass_width+(2*doubt), compass_height+(2*doubt)"
   ]
  },
  {
   "cell_type": "code",
   "execution_count": 494,
   "metadata": {},
   "outputs": [],
   "source": [
    "# get_compass_image(testing=True)"
   ]
  },
  {
   "cell_type": "markdown",
   "metadata": {},
   "source": [
    "### Get navpoint offset"
   ]
  },
  {
   "cell_type": "code",
   "execution_count": 495,
   "metadata": {},
   "outputs": [],
   "source": [
    "same_last_count = 0\n",
    "last_last = {'x': 1, 'y': 100}\n",
    "def get_navpoint_offset(testing=False, last=None):\n",
    "    global same_last_count, last_last\n",
    "    navpoint_template = cv2.imread(resource_path(\"templates/navpoint.png\"), cv2.IMREAD_GRAYSCALE)\n",
    "    navpoint_width, navpoint_height = navpoint_template.shape[::-1]\n",
    "    pt = (0, 0)\n",
    "    while True:\n",
    "        compass_image, compass_width, compass_height = get_compass_image()\n",
    "        mask_blue = filter_blue(compass_image)\n",
    "        match = cv2.matchTemplate(mask_blue, navpoint_template, cv2.TM_CCOEFF_NORMED)\n",
    "        threshold = 0.5\n",
    "        loc = where( match >= threshold)\n",
    "        for point in zip(*loc[::-1]):\n",
    "                pt = point\n",
    "        final_x = (pt[0] + ((1/2)*navpoint_width)) - ((1/2)*compass_width)\n",
    "        final_y = ((1/2)*compass_height) - (pt[1] + ((1/2)*navpoint_height))\n",
    "        if testing:\n",
    "            cv2.rectangle(compass_image, pt, (pt[0] + navpoint_width, pt[1] + navpoint_height), (0,0,255), 2)\n",
    "            cv2.imshow('Navpoint Found', compass_image)\n",
    "            cv2.imshow('Navpoint Mask', mask_blue)\n",
    "            if cv2.waitKey(25) & 0xFF == ord('q'):\n",
    "                cv2.destroyAllWindows()\n",
    "                break\n",
    "        else:\n",
    "            break\n",
    "    if pt[0] == 0 and pt[1] == 0:\n",
    "        if last:\n",
    "            if last == last_last:\n",
    "                same_last_count = same_last_count + 1\n",
    "            else:\n",
    "                last_last = last\n",
    "                same_last_count = 0\n",
    "            if same_last_count > 5:\n",
    "                same_last_count = 0\n",
    "                return {'x': 1, 'y': 100}\n",
    "            else:\n",
    "                return last\n",
    "        else:\n",
    "            return None\n",
    "    else:\n",
    "        return {'x':final_x, 'y':final_y}"
   ]
  },
  {
   "cell_type": "code",
   "execution_count": 496,
   "metadata": {},
   "outputs": [],
   "source": [
    "# get_navpoint_offset(testing=True)"
   ]
  },
  {
   "cell_type": "markdown",
   "metadata": {},
   "source": [
    "### Get destination offset"
   ]
  },
  {
   "cell_type": "code",
   "execution_count": 497,
   "metadata": {},
   "outputs": [],
   "source": [
    "def get_destination_offset(testing=False):\n",
    "    destination_template = cv2.imread(resource_path(\"templates/destination.png\"), cv2.IMREAD_GRAYSCALE)\n",
    "    destination_width, destination_height = destination_template.shape[::-1]\n",
    "    pt = (0, 0)\n",
    "    width = (1/3)*SCREEN_WIDTH\n",
    "    height = (1/3)*SCREEN_HEIGHT\n",
    "    while True:\n",
    "        screen = get_screen((1/3)*SCREEN_WIDTH, (1/3)*SCREEN_HEIGHT,(2/3)*SCREEN_WIDTH, (2/3)*SCREEN_HEIGHT)\n",
    "        mask_orange = filter_orange2(screen)\n",
    "        match = cv2.matchTemplate(mask_orange, destination_template, cv2.TM_CCOEFF_NORMED)\n",
    "        threshold = 0.2\n",
    "        loc = where( match >= threshold)\n",
    "        for point in zip(*loc[::-1]):\n",
    "                pt = point\n",
    "        final_x = (pt[0] + ((1/2)*destination_width)) - ((1/2)*width)\n",
    "        final_y = ((1/2)*height) - (pt[1] + ((1/2)*destination_height))\n",
    "        if testing:\n",
    "            cv2.rectangle(screen, pt, (pt[0] + destination_width, pt[1] + destination_height), (0,0,255), 2)\n",
    "            cv2.imshow('Destination Found', screen)\n",
    "            cv2.imshow('Destination Mask', mask_orange)\n",
    "            if cv2.waitKey(25) & 0xFF == ord('q'):\n",
    "                cv2.destroyAllWindows()\n",
    "                break\n",
    "        else:\n",
    "            break\n",
    "    if pt[0] == 0 and pt[1] == 0:\n",
    "        return None\n",
    "    else:\n",
    "        return {'x':final_x, 'y':final_y}"
   ]
  },
  {
   "cell_type": "code",
   "execution_count": 498,
   "metadata": {},
   "outputs": [],
   "source": [
    "# sleep(3)\n",
    "# get_destination_offset(testing=True)"
   ]
  },
  {
   "cell_type": "markdown",
   "metadata": {},
   "source": [
    "## Autopilot routines"
   ]
  },
  {
   "cell_type": "markdown",
   "metadata": {},
   "source": [
    "### Undock"
   ]
  },
  {
   "cell_type": "code",
   "execution_count": 499,
   "metadata": {},
   "outputs": [],
   "source": [
    "def undock():\n",
    "    if ship()['status'] != \"in_station\":\n",
    "        raise Exception('undock error 1')\n",
    "    send(keys['UI_Back'], repeat=10)\n",
    "    send(keys['HeadLookReset'])\n",
    "    send(keys['UI_Down'], hold=3)\n",
    "    send(keys['UI_Select'])\n",
    "    sleep(1)\n",
    "    if not (ship()['status'] == \"starting_undock\" or ship()['status'] == \"in_undock\"):\n",
    "        raise Exception(\"undock error 2\")\n",
    "    send(keys['HeadLookReset'])\n",
    "    send(keys['SetSpeedZero'], repeat=2)\n",
    "    wait = 120\n",
    "    for i in range(wait):\n",
    "        sleep(1)\n",
    "        if i > wait - 1:\n",
    "            raise Exception('undock error 3')\n",
    "        if ship()['status'] == \"in_space\":\n",
    "            break\n",
    "    return True"
   ]
  },
  {
   "cell_type": "code",
   "execution_count": 500,
   "metadata": {},
   "outputs": [],
   "source": [
    "# sleep(3)\n",
    "# undock()"
   ]
  },
  {
   "cell_type": "markdown",
   "metadata": {},
   "source": [
    "### Dock"
   ]
  },
  {
   "cell_type": "code",
   "execution_count": 501,
   "metadata": {},
   "outputs": [],
   "source": [
    "def dock():\n",
    "    if ship()['status'] != \"in_space\":\n",
    "        raise Exception('dock error 1')\n",
    "    tries = 3\n",
    "    for i in range(tries):\n",
    "        send(keys['UI_Back'], repeat=10)\n",
    "        send(keys['HeadLookReset'])\n",
    "        send(keys['UIFocus'], state=1)\n",
    "        send(keys['UI_Left'])\n",
    "        send(keys['UIFocus'], state=0)\n",
    "        send(keys['CycleNextPanel'], repeat=2)\n",
    "        send(keys['UI_Up'], hold=3)\n",
    "        send(keys['UI_Right'])\n",
    "        send(keys['UI_Select'])\n",
    "        sleep(1)\n",
    "        if ship()['status'] == \"starting_dock\" or ship()['status'] == \"in_dock\":\n",
    "            break\n",
    "        if i > tries-1:\n",
    "            raise Exception(\"dock error 2\")\n",
    "    send(keys['UI_Back'])\n",
    "    send(keys['HeadLookReset'])\n",
    "    send(keys['SetSpeedZero'], repeat=2)\n",
    "    wait = 120\n",
    "    for i in range(wait):\n",
    "        sleep(1)\n",
    "        if i > wait-1:\n",
    "            raise Exception('dock error 3')\n",
    "        if ship()['status'] == \"in_station\":\n",
    "            break\n",
    "    send(keys['UI_Up'], hold=3)\n",
    "    send(keys['UI_Down'])\n",
    "    send(keys['UI_Select'])\n",
    "    return True"
   ]
  },
  {
   "cell_type": "code",
   "execution_count": 502,
   "metadata": {},
   "outputs": [],
   "source": [
    "# sleep(3)\n",
    "# dock()"
   ]
  },
  {
   "cell_type": "markdown",
   "metadata": {},
   "source": [
    "### Align"
   ]
  },
  {
   "cell_type": "code",
   "execution_count": 503,
   "metadata": {},
   "outputs": [],
   "source": [
    "def x_angle(point=None):\n",
    "    if not point:\n",
    "        return None\n",
    "    result = degrees(atan(point['y']/point['x']))\n",
    "    if point['x'] > 0:\n",
    "        return +90 - result\n",
    "    else:\n",
    "        return -90 - result"
   ]
  },
  {
   "cell_type": "code",
   "execution_count": 504,
   "metadata": {},
   "outputs": [],
   "source": [
    "def align_old():\n",
    "    if not (ship()['status'] == 'in_supercruise' or ship()['status'] == 'in_space'):\n",
    "        raise Exception('not ready to jump')\n",
    "    \n",
    "    send(keys['SetSpeed100'])\n",
    "    \n",
    "    while sun_percent() > 5:\n",
    "        send(keys['PitchUpButton'], state=1)\n",
    "    send(keys['PitchUpButton'], state=0)\n",
    "    \n",
    "    off = get_navpoint_offset()\n",
    "    while not off:\n",
    "        send(keys['PitchUpButton'], state=1)\n",
    "        off = get_navpoint_offset(last=off)\n",
    "    send(keys['PitchUpButton'], state=0)\n",
    "    \n",
    "    close = 3\n",
    "    close_a = 8\n",
    "    hold_pitch = 0.7\n",
    "    hold_roll = 0.3\n",
    "    ang = x_angle(off)\n",
    "    while (off['x'] > close and ang > close_a) or \\\n",
    "          (off['x'] < -close and ang < -close_a) or \\\n",
    "          (off['y'] > close) or \\\n",
    "          (off['y'] < -close):\n",
    "        \n",
    "        if off['x'] > close and ang > close:\n",
    "            send(keys['RollRightButton'], hold=hold_roll)\n",
    "        if off['x'] < -close and ang < -close:\n",
    "            send(keys['RollLeftButton'], hold=hold_roll)\n",
    "        if off['y'] > close:\n",
    "            send(keys['PitchUpButton'], hold=hold_pitch)\n",
    "        if off['y'] < -close:\n",
    "            send(keys['PitchDownButton'], hold=hold_pitch)\n",
    "            \n",
    "        if ship()['status'] == 'starting_hyperspace':\n",
    "            return\n",
    "        off = get_navpoint_offset(last=off)\n",
    "        ang = x_angle(off)\n",
    "        \n",
    "    sleep(0.5)    \n",
    "    close = 80\n",
    "    hold_pitch = 0.200\n",
    "    hold_yaw = 0.3\n",
    "    for i in range(8):\n",
    "        new = get_destination_offset()\n",
    "        if new:\n",
    "            off = new\n",
    "            break\n",
    "        sleep(0.25)\n",
    "    if not off:\n",
    "        return\n",
    "    while (off['x'] > close) or \\\n",
    "          (off['x'] < -close) or \\\n",
    "          (off['y'] > close) or \\\n",
    "          (off['y'] < -close):\n",
    "        \n",
    "        if off['x'] > close and ang > close:\n",
    "            send(keys['YawRightButton'], hold=hold_yaw)\n",
    "        if off['x'] < -close and ang < -close:\n",
    "            send(keys['YawLeftButton'], hold=hold_yaw)\n",
    "        if off['y'] > close:\n",
    "            send(keys['PitchUpButton'], hold=hold_pitch)\n",
    "        if off['y'] < -close:\n",
    "            send(keys['PitchDownButton'], hold=hold_pitch)\n",
    "            \n",
    "        if ship()['status'] == 'starting_hyperspace':\n",
    "            return\n",
    "        off = get_destination_offset()\n",
    "        if not off:\n",
    "            return"
   ]
  },
  {
   "cell_type": "code",
   "execution_count": 505,
   "metadata": {},
   "outputs": [],
   "source": [
    "def align():\n",
    "    if not (ship()['status'] == 'in_supercruise' or ship()['status'] == 'in_space'):\n",
    "        raise Exception('not ready to jump')\n",
    "    \n",
    "    send(keys['SetSpeed100'])\n",
    "    \n",
    "    while sun_percent() > 5:\n",
    "        send(keys['PitchUpButton'], state=1)\n",
    "    send(keys['PitchUpButton'], state=0)\n",
    "    \n",
    "    off = get_navpoint_offset()\n",
    "    while not off:\n",
    "        send(keys['PitchUpButton'], state=1)\n",
    "        off = get_navpoint_offset()\n",
    "    send(keys['PitchUpButton'], state=0)\n",
    "    \n",
    "    close = 3\n",
    "    close_a = 20\n",
    "    hold_pitch = 0.700\n",
    "    hold_roll = 0.200\n",
    "    ang = x_angle(off)\n",
    "    while (off['x'] > close and ang > close_a) or \\\n",
    "          (off['x'] < -close and ang < -close_a) or \\\n",
    "          (off['y'] > close) or \\\n",
    "          (off['y'] < -close):\n",
    "\n",
    "        while (off['x'] > close and ang > close_a) or \\\n",
    "              (off['x'] < -close and ang < -close_a):\n",
    "\n",
    "            if off['x'] > close and ang > close:\n",
    "                send(keys['RollRightButton'], hold=hold_roll)\n",
    "            if off['x'] < -close and ang < -close:\n",
    "                send(keys['RollLeftButton'], hold=hold_roll)\n",
    "\n",
    "            if ship()['status'] == 'starting_hyperspace':\n",
    "                return\n",
    "            off = get_navpoint_offset(last=off)\n",
    "            ang = x_angle(off)\n",
    "\n",
    "        ang = x_angle(off)\n",
    "        while (off['y'] > close) or \\\n",
    "              (off['y'] < -close):\n",
    "\n",
    "            if off['y'] > close:\n",
    "                send(keys['PitchUpButton'], hold=hold_pitch)\n",
    "            if off['y'] < -close:\n",
    "                send(keys['PitchDownButton'], hold=hold_pitch)\n",
    "\n",
    "            if ship()['status'] == 'starting_hyperspace':\n",
    "                return\n",
    "            off = get_navpoint_offset(last=off)\n",
    "            ang = x_angle(off)\n",
    "            \n",
    "        off = get_navpoint_offset(last=off)\n",
    "        ang = x_angle(off)\n",
    "\n",
    "    sleep(0.5)    \n",
    "    close = 50\n",
    "    hold_pitch = 0.200\n",
    "    hold_yaw = 0.400\n",
    "    for i in range(8):\n",
    "        new = get_destination_offset()\n",
    "        if new:\n",
    "            off = new\n",
    "            break\n",
    "        sleep(0.25)\n",
    "    if not off:\n",
    "        return\n",
    "    while (off['x'] > close) or \\\n",
    "          (off['x'] < -close) or \\\n",
    "          (off['y'] > close) or \\\n",
    "          (off['y'] < -close):\n",
    "        \n",
    "        if off['x'] > close and ang > close:\n",
    "            send(keys['YawRightButton'], hold=hold_yaw)\n",
    "        if off['x'] < -close and ang < -close:\n",
    "            send(keys['YawLeftButton'], hold=hold_yaw)\n",
    "        if off['y'] > close:\n",
    "            send(keys['PitchUpButton'], hold=hold_pitch)\n",
    "        if off['y'] < -close:\n",
    "            send(keys['PitchDownButton'], hold=hold_pitch)\n",
    "            \n",
    "        if ship()['status'] == 'starting_hyperspace':\n",
    "            return\n",
    "        off = get_destination_offset()\n",
    "        if not off:\n",
    "            return"
   ]
  },
  {
   "cell_type": "code",
   "execution_count": 506,
   "metadata": {},
   "outputs": [],
   "source": [
    "# sleep(3)\n",
    "# align()"
   ]
  },
  {
   "cell_type": "code",
   "execution_count": null,
   "metadata": {},
   "outputs": [],
   "source": []
  },
  {
   "cell_type": "markdown",
   "metadata": {},
   "source": [
    "### Jump"
   ]
  },
  {
   "cell_type": "code",
   "execution_count": 507,
   "metadata": {},
   "outputs": [],
   "source": [
    "def jump():\n",
    "    tries = 3\n",
    "    for i in range(tries):\n",
    "        if not (ship()['status'] == 'in_supercruise' or ship()['status'] == 'in_space'):\n",
    "            raise Exception('not ready to jump')\n",
    "        send(keys['HyperSuperCombination'])\n",
    "        sleep(16)\n",
    "        if ship()['status'] != 'starting_hyperspace':\n",
    "            send(keys['HyperSuperCombination'])\n",
    "            sleep(2)\n",
    "            align()\n",
    "        else:\n",
    "            while ship()['status'] != 'in_supercruise':\n",
    "                sleep(1)\n",
    "            send(keys['SetSpeedZero'])\n",
    "            return True\n",
    "    raise Exception(\"jump failure\")    "
   ]
  },
  {
   "cell_type": "markdown",
   "metadata": {},
   "source": [
    "### Refuel"
   ]
  },
  {
   "cell_type": "code",
   "execution_count": 508,
   "metadata": {},
   "outputs": [],
   "source": [
    "def refuel():\n",
    "    scoopable_stars = ['F', 'O', 'G', 'K', 'B', 'A', 'M']\n",
    "    \n",
    "    if ship()['status'] != 'in_supercruise':\n",
    "        raise Exception('not ready to refuel')\n",
    "        \n",
    "    if ship()['fuel_percent'] < 33 and ship()['star_class'] in scoopable_stars:\n",
    "        send(keys['SetSpeed100'])\n",
    "    #     while not ship()['is_scooping']:\n",
    "    #         sleep(1)\n",
    "        sleep(4)\n",
    "        send(keys['SetSpeedZero'], repeat=3)\n",
    "        while not ship()['fuel_percent'] == 100:\n",
    "            sleep(1)\n",
    "        return True"
   ]
  },
  {
   "cell_type": "code",
   "execution_count": 509,
   "metadata": {},
   "outputs": [],
   "source": [
    "# sleep(3)\n",
    "# refuel()"
   ]
  },
  {
   "cell_type": "markdown",
   "metadata": {},
   "source": [
    "### Position"
   ]
  },
  {
   "cell_type": "code",
   "execution_count": 510,
   "metadata": {},
   "outputs": [],
   "source": [
    "def position():\n",
    "    send(keys['PitchUpButton'], state=1)\n",
    "    sleep(5)\n",
    "    send(keys['SetSpeed100'])\n",
    "    while sun_percent() > 3:\n",
    "        sleep(1)\n",
    "    sleep(2)\n",
    "    send(keys['PitchUpButton'], state=0)\n",
    "    sleep(5)\n",
    "    return True"
   ]
  },
  {
   "cell_type": "code",
   "execution_count": 511,
   "metadata": {},
   "outputs": [],
   "source": [
    "# sleep(3)\n",
    "# position()"
   ]
  },
  {
   "cell_type": "markdown",
   "metadata": {},
   "source": [
    "## Autopilot main"
   ]
  },
  {
   "cell_type": "markdown",
   "metadata": {},
   "source": [
    "### status reference\n",
    "\n",
    "'in-station'\n",
    "\n",
    "'in-supercruise'\n",
    "\n",
    "'in-space'\n",
    "\n",
    "'starting-undocking'\n",
    "\n",
    "'in-undocking'\n",
    "\n",
    "'starting-docking'\n",
    "\n",
    "'in-docking'"
   ]
  },
  {
   "cell_type": "code",
   "execution_count": 512,
   "metadata": {},
   "outputs": [],
   "source": [
    "def autopilot():\n",
    "#     if ship()['target']:\n",
    "#         undock()\n",
    "    while ship()['target']:\n",
    "        if ship()['status'] == 'in_space' or ship()['status'] == 'in_supercruise':\n",
    "            align()\n",
    "            jump()\n",
    "            refuel()\n",
    "            position()\n",
    "    send(keys['SetSpeedZero'])"
   ]
  },
  {
   "cell_type": "code",
   "execution_count": 513,
   "metadata": {},
   "outputs": [],
   "source": [
    "# sleep(3)\n",
    "# autopilot()"
   ]
  },
  {
   "cell_type": "code",
   "execution_count": null,
   "metadata": {},
   "outputs": [],
   "source": []
  }
 ],
 "metadata": {
  "kernelspec": {
   "display_name": "Python 3",
   "language": "python",
   "name": "python3"
  },
  "toc": {
   "base_numbering": 1,
   "nav_menu": {},
   "number_sections": true,
   "sideBar": true,
   "skip_h1_title": false,
   "title_cell": "Elite Dangerous Autopilot v2",
   "title_sidebar": "Index",
   "toc_cell": true,
   "toc_position": {
    "height": "calc(100% - 180px)",
    "left": "10px",
    "top": "150px",
    "width": "225.608px"
   },
   "toc_section_display": true,
   "toc_window_display": true
  }
 },
 "nbformat": 4,
 "nbformat_minor": 2
}
